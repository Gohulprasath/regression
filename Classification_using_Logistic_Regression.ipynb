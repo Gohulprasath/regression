{
  "nbformat": 4,
  "nbformat_minor": 0,
  "metadata": {
    "colab": {
      "provenance": [],
      "collapsed_sections": []
    },
    "kernelspec": {
      "name": "python3",
      "display_name": "Python 3"
    },
    "language_info": {
      "name": "python"
    }
  },
  "cells": [
    {
      "cell_type": "code",
      "source": [
        "%reset-f"
      ],
      "metadata": {
        "id": "Q2TVEGlynidL"
      },
      "execution_count": null,
      "outputs": []
    },
    {
      "cell_type": "markdown",
      "source": [
        "**Classification using Logistic Regression**"
      ],
      "metadata": {
        "id": "qqrBkcq246au"
      }
    },
    {
      "cell_type": "code",
      "source": [
        "import numpy as np\n",
        "import pandas as pd\n",
        "import seaborn as sns\n",
        "from sklearn.model_selection import train_test_split\n",
        "from sklearn.metrics import accuracy_score,confusion_matrix\n",
        "\n",
        "aa=pd.read_csv('People Charm case.csv')\n",
        "a = pd.get_dummies(aa,drop_first=True)\n",
        "clist = list(a.columns)\n",
        "features=list(set(clist)-set(['left']))\n",
        "y = a['left'].values\n",
        "x = a[features].values\n",
        "train_x,test_x,train_y,test_y = train_test_split(x,y,test_size=0.25,random_state=0)\n"
      ],
      "metadata": {
        "id": "plZLSIhj1_i4"
      },
      "execution_count": null,
      "outputs": []
    },
    {
      "cell_type": "code",
      "source": [
        "from sklearn.linear_model import LogisticRegression\n",
        "model= LogisticRegression()\n",
        "model.fit(train_x,train_y)\n",
        "prediction = model.predict(test_x)\n",
        "\n",
        "accuracy = accuracy_score(test_y,prediction)\n",
        "print(\"Accuracy of the model:\",accuracy)\n",
        "print('Misclassified:%d' % (test_y != prediction).sum())\n",
        "print('Correctly classified:%d' % (test_y == prediction).sum())\n",
        "\n",
        "from sklearn.metrics import classification_report\n",
        "print('Classification Report:\\n',classification_report(test_y, prediction))\n",
        "\n",
        "confusion_matrx= confusion_matrix(test_y,prediction)\n",
        "print('Confusion matrix:\\n')\n",
        "plt.figure(figsize = (5,2))\n",
        "sns.heatmap(confusion_matrx, annot=True,fmt='d',cmap='icefire')"
      ],
      "metadata": {
        "id": "x4T3_QlE4USq",
        "colab": {
          "base_uri": "https://localhost:8080/",
          "height": 574
        },
        "outputId": "4686e2cc-604c-4d22-a616-f5abc3028181"
      },
      "execution_count": null,
      "outputs": [
        {
          "output_type": "stream",
          "name": "stderr",
          "text": [
            "/usr/local/lib/python3.7/dist-packages/sklearn/linear_model/_logistic.py:818: ConvergenceWarning: lbfgs failed to converge (status=1):\n",
            "STOP: TOTAL NO. of ITERATIONS REACHED LIMIT.\n",
            "\n",
            "Increase the number of iterations (max_iter) or scale the data as shown in:\n",
            "    https://scikit-learn.org/stable/modules/preprocessing.html\n",
            "Please also refer to the documentation for alternative solver options:\n",
            "    https://scikit-learn.org/stable/modules/linear_model.html#logistic-regression\n",
            "  extra_warning_msg=_LOGISTIC_SOLVER_CONVERGENCE_MSG,\n"
          ]
        },
        {
          "output_type": "stream",
          "name": "stdout",
          "text": [
            "Accuracy of the model: 0.7933333333333333\n",
            "Misclassified:775\n",
            "Correctly classified:2975\n",
            "Classification Report:\n",
            "               precision    recall  f1-score   support\n",
            "\n",
            "           0       0.82      0.93      0.87      2837\n",
            "           1       0.62      0.38      0.47       913\n",
            "\n",
            "    accuracy                           0.79      3750\n",
            "   macro avg       0.72      0.65      0.67      3750\n",
            "weighted avg       0.77      0.79      0.77      3750\n",
            "\n",
            "Confusion matrix:\n",
            "\n"
          ]
        },
        {
          "output_type": "execute_result",
          "data": {
            "text/plain": [
              "<matplotlib.axes._subplots.AxesSubplot at 0x7f98528b2890>"
            ]
          },
          "metadata": {},
          "execution_count": 43
        },
        {
          "output_type": "display_data",
          "data": {
            "text/plain": [
              "<Figure size 360x144 with 2 Axes>"
            ],
            "image/png": "[encoded data removed]"
          },
          "metadata": {
            "needs_background": "light"
          }
        }
      ]
    },
    {
      "cell_type": "code",
      "source": [
        "#ROC curve\n",
        "\n",
        "from sklearn.metrics import roc_curve\n",
        "from sklearn.metrics import roc_auc_score\n",
        "from matplotlib import pyplot\n",
        "ns_probs = [0 for _ in range(len(test_y))]\n",
        "lr_probs = model.predict_proba(test_x)\n",
        "lr_probs = lr_probs[:, 1]\n",
        "# calculate scores\n",
        "ns_auc = roc_auc_score(test_y, ns_probs)\n",
        "lr_auc = roc_auc_score(test_y, lr_probs)\n",
        "# summarize scores\n",
        "print('No Skill: ROC AUC=%.3f' % (ns_auc))\n",
        "print('Log Reg: ROC AUC=%.3f' % (lr_auc))\n",
        "# calculate roc curves\n",
        "ns_fpr, ns_tpr, _ = roc_curve(test_y, ns_probs)\n",
        "lr_fpr, lr_tpr, _ = roc_curve(test_y, lr_probs)\n",
        "# plot the roc curve for the model\n",
        "pyplot.plot(ns_fpr, ns_tpr, linestyle='--', label='No Skill')\n",
        "pyplot.plot(lr_fpr, lr_tpr, marker='.', label='Logistic Regression')\n",
        "# axis labels\n",
        "pyplot.xlabel('False Positive Rate')\n",
        "pyplot.ylabel('True Positive Rate')\n",
        "pyplot.title('ROC Curve')\n",
        "# show the legend\n",
        "pyplot.legend()\n",
        "# show the plot\n",
        "pyplot.show()"
      ],
      "metadata": {
        "colab": {
          "base_uri": "https://localhost:8080/",
          "height": 330
        },
        "id": "x-a54Kc43c91",
        "outputId": "9033b7aa-8ce3-4562-b708-5d600fa508a1"
      },
      "execution_count": null,
      "outputs": [
        {
          "output_type": "stream",
          "name": "stdout",
          "text": [
            "No Skill: ROC AUC=0.500\n",
            "Log Reg: ROC AUC=0.820\n"
          ]
        },
        {
          "output_type": "display_data",
          "data": {
            "text/plain": [
              "<Figure size 432x288 with 1 Axes>"
            ],
            "image/png": "[encoded data removed]"
          },
          "metadata": {
            "needs_background": "light"
          }
        }
      ]
    },
    {
      "cell_type": "code",
      "source": [],
      "metadata": {
        "id": "8dMiHCEkHc3g"
      },
      "execution_count": null,
      "outputs": []
    }
  ]
}